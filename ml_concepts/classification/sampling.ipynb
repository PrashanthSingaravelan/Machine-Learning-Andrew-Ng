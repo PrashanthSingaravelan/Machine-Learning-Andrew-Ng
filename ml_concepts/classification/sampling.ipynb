{
 "cells": [
  {
   "cell_type": "markdown",
   "id": "8db71922",
   "metadata": {},
   "source": [
    "<img src = 'over_under_sampling.jpg'>\n",
    "<img src = 'over_under_sampling_1.jpg'>"
   ]
  },
  {
   "cell_type": "code",
   "execution_count": 14,
   "id": "4e044d0e",
   "metadata": {},
   "outputs": [],
   "source": [
    "from imblearn.under_sampling import RandomUnderSampler\n",
    "from imblearn.over_sampling import RandomOverSampler\n",
    "from sklearn.datasets import make_classification\n",
    "from sklearn.model_selection import cross_val_score\n",
    "from sklearn.model_selection import RepeatedStratifiedKFold\n",
    "from sklearn.tree import DecisionTreeClassifier\n",
    "from imblearn.pipeline import Pipeline\n",
    "\n",
    "import seaborn as sns\n",
    "import pandas as pd\n",
    "import numpy as np\n",
    "\n",
    "from collections import Counter\n",
    "\n",
    "from numpy import mean"
   ]
  },
  {
   "cell_type": "markdown",
   "id": "047ef672",
   "metadata": {},
   "source": [
    "## Random OverSampling"
   ]
  },
  {
   "cell_type": "code",
   "execution_count": 15,
   "id": "5c35dcce",
   "metadata": {},
   "outputs": [
    {
     "name": "stdout",
     "output_type": "stream",
     "text": [
      "X-type :  <class 'numpy.ndarray'>\n",
      "y-type :  <class 'numpy.ndarray'>\n",
      "X-Dimension :  2\n",
      "Y-Dimension :  1\n"
     ]
    }
   ],
   "source": [
    "## Defining an imbalance data-set We can demonstrate this on a simple synthetic binary classification \n",
    "## problem with a 1:100 class imbalance.\n",
    "X, y = list(make_classification(n_samples=10000, weights=[0.99], flip_y=0))\n",
    "\n",
    "print(\"X-type : \",type(X))\n",
    "print(\"y-type : \",type(y))\n",
    "\n",
    "print(\"X-Dimension : \",X.ndim)\n",
    "print(\"Y-Dimension : \",y.ndim)"
   ]
  },
  {
   "cell_type": "code",
   "execution_count": 16,
   "id": "3808b0a2",
   "metadata": {},
   "outputs": [
    {
     "name": "stdout",
     "output_type": "stream",
     "text": [
      "Counter({0: 9900, 1: 100})\n"
     ]
    },
    {
     "data": {
      "text/plain": [
       "array([[   0,    1],\n",
       "       [9900,  100]], dtype=int64)"
      ]
     },
     "execution_count": 16,
     "metadata": {},
     "output_type": "execute_result"
    }
   ],
   "source": [
    "print(Counter(y))\n",
    "np.array(np.unique(y, return_counts=True))"
   ]
  },
  {
   "cell_type": "markdown",
   "id": "ee64b1b9",
   "metadata": {},
   "source": [
    "This means that if the majority class had 1,000 examples and the minority class had 100, \n",
    "this strategy would oversampling the minority class so that it has 1,000 examples.\n"
   ]
  },
  {
   "cell_type": "code",
   "execution_count": 17,
   "id": "cced8771",
   "metadata": {},
   "outputs": [
    {
     "data": {
      "text/plain": [
       "imblearn.over_sampling._random_over_sampler.RandomOverSampler"
      ]
     },
     "execution_count": 17,
     "metadata": {},
     "output_type": "execute_result"
    }
   ],
   "source": [
    "# define oversampling strategy\n",
    "oversample = RandomOverSampler(sampling_strategy='minority')  \n",
    "## we are going to scale the minority class to majority class\n",
    "type(oversample)"
   ]
  },
  {
   "cell_type": "code",
   "execution_count": 18,
   "id": "b4788187",
   "metadata": {},
   "outputs": [],
   "source": [
    "oversample = RandomOverSampler(sampling_strategy=0.5)"
   ]
  },
  {
   "cell_type": "markdown",
   "id": "955f22a4",
   "metadata": {},
   "source": [
    "\n",
    "A floating point value can be specified to indicate the ratio of minority class majority \n",
    "examples in the transformed dataset.\n",
    "\n",
    "This would ensure that the minority class was oversampled to have half the number of examples as the majority class, for binary classification problems.\n",
    "\n",
    "This means that if the majority class had 1,000 examples and the minority class had 100, \n",
    "the transformed dataset would have 500 examples of the minority class.\n"
   ]
  },
  {
   "cell_type": "code",
   "execution_count": 19,
   "id": "53bad4c4",
   "metadata": {},
   "outputs": [],
   "source": [
    "# fit and apply the transform\n",
    "X_over, y_over = oversample.fit_resample(X, y)"
   ]
  },
  {
   "cell_type": "code",
   "execution_count": 20,
   "id": "3830b13b",
   "metadata": {},
   "outputs": [
    {
     "name": "stdout",
     "output_type": "stream",
     "text": [
      "Counter({0: 9900, 1: 4950})\n"
     ]
    },
    {
     "data": {
      "text/plain": [
       "array([[   0,    1],\n",
       "       [9900, 4950]], dtype=int64)"
      ]
     },
     "execution_count": 20,
     "metadata": {},
     "output_type": "execute_result"
    }
   ],
   "source": [
    "print(Counter(y_over))\n",
    "np.array(np.unique(y_over, return_counts=True))"
   ]
  },
  {
   "cell_type": "code",
   "execution_count": 21,
   "id": "91ff14fb",
   "metadata": {},
   "outputs": [
    {
     "name": "stdout",
     "output_type": "stream",
     "text": [
      "F1 Score: 0.997\n"
     ]
    }
   ],
   "source": [
    "# define pipeline\n",
    "steps = [('over', RandomOverSampler()), ('model', DecisionTreeClassifier())]\n",
    "pipeline = Pipeline(steps=steps)\n",
    "\n",
    "# evaluate pipeline\n",
    "cv     = RepeatedStratifiedKFold(n_splits=10, n_repeats=3, random_state=1)\n",
    "scores = cross_val_score(pipeline, X, y, scoring='f1_micro', cv=cv, n_jobs=-1)\n",
    "score  = mean(scores)\n",
    "print('F1 Score: %.3f' % score)"
   ]
  },
  {
   "cell_type": "markdown",
   "id": "591ee2cd",
   "metadata": {},
   "source": [
    "This is Evaluating a decision tree on an imbalanced dataset with a 1:100 class distribution.\n",
    "\n",
    "The model is evaluated using repeated 10-fold cross-validation with three repeats, \n",
    "and the oversampling is performed on the training dataset within each fold separately, \n",
    "ensuring that there is no data leakage as might occur if the oversampling was performed prior \n",
    "to the cross-validation.\n",
    "\n",
    "Running the example evaluates the decision tree model on the imbalanced dataset with oversampling.\n",
    "\n",
    "The chosen model and resampling configuration are arbitrary, designed to provide a template that\n",
    "you can use to test undersampling with your dataset and learning algorithm, \n",
    "rather than optimally solve the synthetic dataset."
   ]
  },
  {
   "cell_type": "markdown",
   "id": "172f89e2",
   "metadata": {},
   "source": [
    "## Random UnderSampling"
   ]
  },
  {
   "cell_type": "code",
   "execution_count": 22,
   "id": "9e3acb1f",
   "metadata": {},
   "outputs": [],
   "source": [
    "# define undersample strategy\n",
    "undersample = RandomUnderSampler(sampling_strategy='majority')\n",
    "## we are going to scale the majority class to minority class\n",
    "type(oversample)\n",
    "\n",
    "# define undersample strategy\n",
    "undersample = RandomUnderSampler(sampling_strategy=0.5)"
   ]
  },
  {
   "cell_type": "code",
   "execution_count": 23,
   "id": "f2284737",
   "metadata": {},
   "outputs": [
    {
     "name": "stdout",
     "output_type": "stream",
     "text": [
      "Counter({0: 9900, 1: 100})\n"
     ]
    },
    {
     "data": {
      "text/plain": [
       "array([[   0,    1],\n",
       "       [9900,  100]], dtype=int64)"
      ]
     },
     "execution_count": 23,
     "metadata": {},
     "output_type": "execute_result"
    }
   ],
   "source": [
    "print(Counter(y))\n",
    "np.array(np.unique(y, return_counts=True))"
   ]
  },
  {
   "cell_type": "code",
   "execution_count": 24,
   "id": "46d43966",
   "metadata": {},
   "outputs": [],
   "source": [
    "# fit and apply the transform\n",
    "X_over, y_over = undersample.fit_resample(X, y)"
   ]
  },
  {
   "cell_type": "code",
   "execution_count": 25,
   "id": "cb4f0697",
   "metadata": {},
   "outputs": [
    {
     "name": "stdout",
     "output_type": "stream",
     "text": [
      "Counter({0: 200, 1: 100})\n"
     ]
    },
    {
     "data": {
      "text/plain": [
       "array([[  0,   1],\n",
       "       [200, 100]], dtype=int64)"
      ]
     },
     "execution_count": 25,
     "metadata": {},
     "output_type": "execute_result"
    }
   ],
   "source": [
    "print(Counter(y_over))\n",
    "np.array(np.unique(y_over, return_counts=True))"
   ]
  },
  {
   "cell_type": "code",
   "execution_count": 26,
   "id": "aaf66aa2",
   "metadata": {},
   "outputs": [
    {
     "name": "stdout",
     "output_type": "stream",
     "text": [
      "F1 Score: 0.997\n"
     ]
    }
   ],
   "source": [
    "# define pipeline\n",
    "steps = [('over', RandomOverSampler()), ('model', DecisionTreeClassifier())]\n",
    "pipeline = Pipeline(steps=steps)\n",
    "\n",
    "# evaluate pipeline\n",
    "cv     = RepeatedStratifiedKFold(n_splits=10, n_repeats=3, random_state=1)\n",
    "scores = cross_val_score(pipeline, X, y, scoring='f1_micro', cv=cv, n_jobs=-1)\n",
    "score  = mean(scores)\n",
    "print('F1 Score: %.3f' % score)"
   ]
  },
  {
   "cell_type": "code",
   "execution_count": null,
   "id": "a60852bd",
   "metadata": {},
   "outputs": [],
   "source": []
  }
 ],
 "metadata": {
  "kernelspec": {
   "display_name": "Python 3",
   "language": "python",
   "name": "python3"
  },
  "language_info": {
   "codemirror_mode": {
    "name": "ipython",
    "version": 3
   },
   "file_extension": ".py",
   "mimetype": "text/x-python",
   "name": "python",
   "nbconvert_exporter": "python",
   "pygments_lexer": "ipython3",
   "version": "3.8.8"
  }
 },
 "nbformat": 4,
 "nbformat_minor": 5
}
