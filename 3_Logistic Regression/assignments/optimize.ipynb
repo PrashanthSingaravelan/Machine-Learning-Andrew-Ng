{
 "cells": [
  {
   "cell_type": "code",
   "execution_count": 1,
   "id": "c53d7545",
   "metadata": {},
   "outputs": [],
   "source": [
    "# Optimization module in scipy\n",
    "from scipy import optimize"
   ]
  },
  {
   "cell_type": "markdown",
   "id": "c4b7ac0f",
   "metadata": {},
   "source": [
    "## Find the minimum point"
   ]
  },
  {
   "cell_type": "markdown",
   "id": "cc6a7d1b",
   "metadata": {},
   "source": [
    "<img src = 'figures/graph.jpg'>"
   ]
  },
  {
   "cell_type": "code",
   "execution_count": 2,
   "id": "6ff4494f",
   "metadata": {},
   "outputs": [],
   "source": [
    "## function to minimize\n",
    "def f(x):\n",
    "    y = (x**2) - (12*x) + 20\n",
    "    return y"
   ]
  },
  {
   "cell_type": "code",
   "execution_count": 3,
   "id": "1f683680",
   "metadata": {},
   "outputs": [
    {
     "name": "stdout",
     "output_type": "stream",
     "text": [
      "      fun: -15.999999999999936\n",
      " hess_inv: array([[0.50000004]])\n",
      "      jac: array([4.76837158e-07])\n",
      "  message: 'Optimization terminated successfully.'\n",
      "     nfev: 8\n",
      "      nit: 3\n",
      "     njev: 4\n",
      "   status: 0\n",
      "  success: True\n",
      "        x: array([6.00000025])\n"
     ]
    }
   ],
   "source": [
    "x_start = 2  ## initial guess\n",
    "result = optimize.minimize(f, x_start)\n",
    "\n",
    "print(result)"
   ]
  },
  {
   "cell_type": "code",
   "execution_count": 4,
   "id": "58779cac",
   "metadata": {},
   "outputs": [
    {
     "name": "stdout",
     "output_type": "stream",
     "text": [
      "x = [6.00000025] and y = -15.999999999999936\n"
     ]
    }
   ],
   "source": [
    "if result.success:\n",
    "    print(\"x = {} and y = {}\".format(result.x,result.fun) )\n",
    "else:\n",
    "    print(\"Could Not find the minimum point\")"
   ]
  },
  {
   "cell_type": "markdown",
   "id": "400e6796",
   "metadata": {},
   "source": [
    "## Find the maximum point"
   ]
  },
  {
   "cell_type": "markdown",
   "id": "96075e51",
   "metadata": {},
   "source": [
    "<img src = 'figures/ques_1.jpg'>\n",
    "<img src = 'figures/ques_2.jpg'>\n",
    "<img src = 'figures/ques_3.jpg'>"
   ]
  },
  {
   "cell_type": "code",
   "execution_count": 5,
   "id": "227e63b5",
   "metadata": {},
   "outputs": [],
   "source": [
    "def f(xy):\n",
    "    x = xy[0]\n",
    "    y = xy[1]\n",
    "    area = x * y\n",
    "    return -area ## for maximum area"
   ]
  },
  {
   "cell_type": "code",
   "execution_count": 6,
   "id": "1ec69481",
   "metadata": {},
   "outputs": [],
   "source": [
    "# Starting guess\n",
    "xy_start = [50, 50]\n",
    "\n",
    "# Bounds (fencing from 1ft to 100ft)\n",
    "##     x's bound  y's bound\n",
    "bnds = ((1, 100), (1, 100)) \n",
    "\n",
    "## xy[0] denotes x\n",
    "## xy[1] denotes y\n",
    "\n",
    "# Constraints                            2x+y=100 or 2x+y-100=0\n",
    "cons =({'type':'eq', 'fun': lambda xy: (2*xy[0]) + xy[1] - 100})"
   ]
  },
  {
   "cell_type": "code",
   "execution_count": 7,
   "id": "88eb8480",
   "metadata": {},
   "outputs": [
    {
     "name": "stdout",
     "output_type": "stream",
     "text": [
      "Optimization terminated successfully    (Exit mode 0)\n",
      "            Current function value: -1250.0000000000002\n",
      "            Iterations: 4\n",
      "            Function evaluations: 12\n",
      "            Gradient evaluations: 4\n",
      "     fun: -1250.0000000000002\n",
      "     jac: array([-50., -25.])\n",
      " message: 'Optimization terminated successfully'\n",
      "    nfev: 12\n",
      "     nit: 4\n",
      "    njev: 4\n",
      "  status: 0\n",
      " success: True\n",
      "       x: array([25., 50.])\n"
     ]
    }
   ],
   "source": [
    "# Optimizing\n",
    "result = optimize.minimize(f, xy_start, options={\"disp\": True}, constraints=cons, bounds=bnds)\n",
    "\n",
    "print(result)"
   ]
  },
  {
   "cell_type": "code",
   "execution_count": 8,
   "id": "b908202a",
   "metadata": {},
   "outputs": [],
   "source": [
    "## maxium area --> 1250 ft^2"
   ]
  },
  {
   "cell_type": "code",
   "execution_count": 9,
   "id": "46b0021b",
   "metadata": {},
   "outputs": [
    {
     "name": "stdout",
     "output_type": "stream",
     "text": [
      "Success!\n",
      "x = 24.999999999999993 y = 50.00000000000002\n"
     ]
    }
   ],
   "source": [
    "# Print result\n",
    "if result.success:\n",
    "    print(\"Success!\")\n",
    "    xy = result.x\n",
    "    x = xy[0]\n",
    "    y = xy[1]\n",
    "    print(f\"x = {x} y = {y}\")\n",
    "else:\n",
    "    print(\"Sorry, could not find a maximum.\")"
   ]
  },
  {
   "cell_type": "markdown",
   "id": "ce0aed06",
   "metadata": {},
   "source": [
    "## Scenario-2\n",
    "<img src = 'figures/ques_4.jpg'>"
   ]
  },
  {
   "cell_type": "code",
   "execution_count": 10,
   "id": "944f4b32",
   "metadata": {},
   "outputs": [],
   "source": [
    "# Starting guess\n",
    "xy_start = [50, 50]\n",
    "\n",
    "# Bounds (fencing from 1ft to 100ft)\n",
    "##     x's bound  y's bound\n",
    "bnds = ((1, 100), (1, 100)) \n",
    "\n",
    "## xy[0] denotes x\n",
    "## xy[1] denotes y\n",
    "\n",
    "# Constraints                            2x+y=200 or 2x+y-200=0\n",
    "cons =({'type':'eq', 'fun': lambda xy: (2*xy[0]) + xy[1] - 200})"
   ]
  },
  {
   "cell_type": "code",
   "execution_count": 11,
   "id": "7ba79e13",
   "metadata": {},
   "outputs": [
    {
     "name": "stdout",
     "output_type": "stream",
     "text": [
      "Optimization terminated successfully    (Exit mode 0)\n",
      "            Current function value: -5000.0\n",
      "            Iterations: 4\n",
      "            Function evaluations: 12\n",
      "            Gradient evaluations: 4\n",
      "     fun: -5000.0\n",
      "     jac: array([-100.,  -50.])\n",
      " message: 'Optimization terminated successfully'\n",
      "    nfev: 12\n",
      "     nit: 4\n",
      "    njev: 4\n",
      "  status: 0\n",
      " success: True\n",
      "       x: array([ 50., 100.])\n"
     ]
    }
   ],
   "source": [
    "# Optimizing\n",
    "result = optimize.minimize(f, xy_start, options={\"disp\": True}, constraints=cons, bounds=bnds)\n",
    "\n",
    "print(result)"
   ]
  },
  {
   "cell_type": "code",
   "execution_count": 12,
   "id": "f313d51d",
   "metadata": {},
   "outputs": [],
   "source": [
    "## maximum area --> 5000 ft^2"
   ]
  },
  {
   "cell_type": "code",
   "execution_count": 13,
   "id": "f3de08b4",
   "metadata": {},
   "outputs": [
    {
     "name": "stdout",
     "output_type": "stream",
     "text": [
      "Success!\n",
      "x = 50.0 y = 100.0\n"
     ]
    }
   ],
   "source": [
    "# Print result\n",
    "if result.success:\n",
    "    print(\"Success!\")\n",
    "    xy = result.x\n",
    "    x = xy[0]\n",
    "    y = xy[1]\n",
    "    print(f\"x = {x} y = {y}\")\n",
    "else:\n",
    "    print(\"Sorry, could not find a maximum.\")"
   ]
  },
  {
   "cell_type": "markdown",
   "id": "871c99b9",
   "metadata": {},
   "source": [
    "## Scenario-3"
   ]
  },
  {
   "cell_type": "markdown",
   "id": "94486241",
   "metadata": {},
   "source": [
    "Suppose if y=30ft, which portion would be suitable to make gardening so as to get larger area"
   ]
  },
  {
   "cell_type": "code",
   "execution_count": 14,
   "id": "e24cbfd2",
   "metadata": {},
   "outputs": [],
   "source": [
    "# Starting guess\n",
    "xy_start = [50, 50]\n",
    "\n",
    "# Bounds (fencing from 1ft to 100ft)\n",
    "##     x's bound  y's bound\n",
    "bnds = ((1, 100), (1, 50)) \n",
    "\n",
    "## xy[0] denotes x\n",
    "## xy[1] denotes y\n",
    "\n",
    "# Constraints                            2x+y=100 or 2x+y-100=0\n",
    "cons =({'type':'eq', 'fun': lambda xy: (2*xy[0]) + xy[1] - 100})"
   ]
  },
  {
   "cell_type": "code",
   "execution_count": 15,
   "id": "027ab31b",
   "metadata": {},
   "outputs": [
    {
     "name": "stdout",
     "output_type": "stream",
     "text": [
      "Optimization terminated successfully    (Exit mode 0)\n",
      "            Current function value: -1250.0000000000005\n",
      "            Iterations: 2\n",
      "            Function evaluations: 6\n",
      "            Gradient evaluations: 2\n",
      "     fun: -1250.0000000000005\n",
      "     jac: array([-50., -25.])\n",
      " message: 'Optimization terminated successfully'\n",
      "    nfev: 6\n",
      "     nit: 2\n",
      "    njev: 2\n",
      "  status: 0\n",
      " success: True\n",
      "       x: array([25., 50.])\n"
     ]
    }
   ],
   "source": [
    "# Optimizing\n",
    "result = optimize.minimize(f, xy_start, options={\"disp\": True}, constraints=cons, bounds=bnds)\n",
    "\n",
    "print(result)"
   ]
  },
  {
   "cell_type": "code",
   "execution_count": 16,
   "id": "3a5cf2df",
   "metadata": {},
   "outputs": [],
   "source": [
    "## maximum area --> 1250 ft^2"
   ]
  },
  {
   "cell_type": "code",
   "execution_count": 17,
   "id": "6d902275",
   "metadata": {},
   "outputs": [
    {
     "name": "stdout",
     "output_type": "stream",
     "text": [
      "Success!\n",
      "x = 25.000000000000245 y = 49.99999999999953\n"
     ]
    }
   ],
   "source": [
    "# Print result\n",
    "if result.success:\n",
    "    print(\"Success!\")\n",
    "    xy = result.x\n",
    "    x = xy[0]\n",
    "    y = xy[1]\n",
    "    print(f\"x = {x} y = {y}\")\n",
    "else:\n",
    "    print(\"Sorry, could not find a maximum.\")"
   ]
  },
  {
   "cell_type": "code",
   "execution_count": 18,
   "id": "e79f2a67",
   "metadata": {},
   "outputs": [],
   "source": [
    "# References\n",
    "# https://www.youtube.com/watch?v=G0yP_TM-oag\n",
    "# https://math.libretexts.org/Courses/Borough_of_Manhattan_Community_College/MAT301_Calculus_I/04%3A_Applications_of_Derivatives/4.07%3A_Optimization_Problems"
   ]
  }
 ],
 "metadata": {
  "kernelspec": {
   "display_name": "Python 3 (ipykernel)",
   "language": "python",
   "name": "python3"
  },
  "language_info": {
   "codemirror_mode": {
    "name": "ipython",
    "version": 3
   },
   "file_extension": ".py",
   "mimetype": "text/x-python",
   "name": "python",
   "nbconvert_exporter": "python",
   "pygments_lexer": "ipython3",
   "version": "3.8.8"
  }
 },
 "nbformat": 4,
 "nbformat_minor": 5
}
